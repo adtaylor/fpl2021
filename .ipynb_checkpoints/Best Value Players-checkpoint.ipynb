{
 "cells": [
  {
   "cell_type": "markdown",
   "metadata": {},
   "source": [
    "# Setup"
   ]
  },
  {
   "cell_type": "markdown",
   "metadata": {},
   "source": [
    "## Get data and put into pandas"
   ]
  },
  {
   "cell_type": "code",
   "execution_count": 1,
   "metadata": {},
   "outputs": [],
   "source": [
    "import requests\n",
    "import pandas as pd\n",
    "import numpy as np\n",
    "url = 'https://fantasy.premierleague.com/api/bootstrap-static/'\n",
    "r = requests.get(url)\n",
    "json = r.json()"
   ]
  },
  {
   "cell_type": "code",
   "execution_count": 2,
   "metadata": {},
   "outputs": [],
   "source": [
    "elements_df = pd.DataFrame(json['elements'])\n",
    "elements_types_df = pd.DataFrame(json['element_types'])\n",
    "teams_df = pd.DataFrame(json['teams'])\n",
    "slim_elements_df = elements_df[['second_name','team','element_type','value_season','total_points']]"
   ]
  },
  {
   "cell_type": "markdown",
   "metadata": {},
   "source": [
    "## Clean data"
   ]
  },
  {
   "cell_type": "code",
   "execution_count": 3,
   "metadata": {},
   "outputs": [
    {
     "name": "stderr",
     "output_type": "stream",
     "text": [
      "/home/ad/anaconda3/envs/fpl-ml/lib/python3.7/site-packages/ipykernel_launcher.py:1: SettingWithCopyWarning: \n",
      "A value is trying to be set on a copy of a slice from a DataFrame.\n",
      "Try using .loc[row_indexer,col_indexer] = value instead\n",
      "\n",
      "See the caveats in the documentation: https://pandas.pydata.org/pandas-docs/stable/user_guide/indexing.html#returning-a-view-versus-a-copy\n",
      "  \"\"\"Entry point for launching an IPython kernel.\n",
      "/home/ad/anaconda3/envs/fpl-ml/lib/python3.7/site-packages/ipykernel_launcher.py:2: SettingWithCopyWarning: \n",
      "A value is trying to be set on a copy of a slice from a DataFrame.\n",
      "Try using .loc[row_indexer,col_indexer] = value instead\n",
      "\n",
      "See the caveats in the documentation: https://pandas.pydata.org/pandas-docs/stable/user_guide/indexing.html#returning-a-view-versus-a-copy\n",
      "  \n",
      "/home/ad/anaconda3/envs/fpl-ml/lib/python3.7/site-packages/ipykernel_launcher.py:3: SettingWithCopyWarning: \n",
      "A value is trying to be set on a copy of a slice from a DataFrame.\n",
      "Try using .loc[row_indexer,col_indexer] = value instead\n",
      "\n",
      "See the caveats in the documentation: https://pandas.pydata.org/pandas-docs/stable/user_guide/indexing.html#returning-a-view-versus-a-copy\n",
      "  This is separate from the ipykernel package so we can avoid doing imports until\n"
     ]
    },
    {
     "data": {
      "text/html": [
       "<div>\n",
       "<style scoped>\n",
       "    .dataframe tbody tr th:only-of-type {\n",
       "        vertical-align: middle;\n",
       "    }\n",
       "\n",
       "    .dataframe tbody tr th {\n",
       "        vertical-align: top;\n",
       "    }\n",
       "\n",
       "    .dataframe thead th {\n",
       "        text-align: right;\n",
       "    }\n",
       "</style>\n",
       "<table border=\"1\" class=\"dataframe\">\n",
       "  <thead>\n",
       "    <tr style=\"text-align: right;\">\n",
       "      <th></th>\n",
       "      <th>second_name</th>\n",
       "      <th>team</th>\n",
       "      <th>total_points</th>\n",
       "      <th>position</th>\n",
       "      <th>value</th>\n",
       "    </tr>\n",
       "  </thead>\n",
       "  <tbody>\n",
       "    <tr>\n",
       "      <th>32</th>\n",
       "      <td>Martínez</td>\n",
       "      <td>Aston Villa</td>\n",
       "      <td>186</td>\n",
       "      <td>Goalkeeper</td>\n",
       "      <td>33.8</td>\n",
       "    </tr>\n",
       "    <tr>\n",
       "      <th>243</th>\n",
       "      <td>Dallas</td>\n",
       "      <td>Leeds</td>\n",
       "      <td>171</td>\n",
       "      <td>Midfielder</td>\n",
       "      <td>31.1</td>\n",
       "    </tr>\n",
       "    <tr>\n",
       "      <th>254</th>\n",
       "      <td>Meslier</td>\n",
       "      <td>Leeds</td>\n",
       "      <td>154</td>\n",
       "      <td>Goalkeeper</td>\n",
       "      <td>30.8</td>\n",
       "    </tr>\n",
       "    <tr>\n",
       "      <th>485</th>\n",
       "      <td>Cresswell</td>\n",
       "      <td>West Ham</td>\n",
       "      <td>153</td>\n",
       "      <td>Defender</td>\n",
       "      <td>27.8</td>\n",
       "    </tr>\n",
       "    <tr>\n",
       "      <th>40</th>\n",
       "      <td>Targett</td>\n",
       "      <td>Aston Villa</td>\n",
       "      <td>138</td>\n",
       "      <td>Defender</td>\n",
       "      <td>27.6</td>\n",
       "    </tr>\n",
       "    <tr>\n",
       "      <th>...</th>\n",
       "      <td>...</td>\n",
       "      <td>...</td>\n",
       "      <td>...</td>\n",
       "      <td>...</td>\n",
       "      <td>...</td>\n",
       "    </tr>\n",
       "    <tr>\n",
       "      <th>414</th>\n",
       "      <td>Armstrong</td>\n",
       "      <td>Southampton</td>\n",
       "      <td>0</td>\n",
       "      <td>Forward</td>\n",
       "      <td>0.0</td>\n",
       "    </tr>\n",
       "    <tr>\n",
       "      <th>415</th>\n",
       "      <td>Hart</td>\n",
       "      <td>Spurs</td>\n",
       "      <td>0</td>\n",
       "      <td>Goalkeeper</td>\n",
       "      <td>0.0</td>\n",
       "    </tr>\n",
       "    <tr>\n",
       "      <th>112</th>\n",
       "      <td>Andone</td>\n",
       "      <td>Brighton</td>\n",
       "      <td>0</td>\n",
       "      <td>Forward</td>\n",
       "      <td>0.0</td>\n",
       "    </tr>\n",
       "    <tr>\n",
       "      <th>111</th>\n",
       "      <td>Scherpen</td>\n",
       "      <td>Brighton</td>\n",
       "      <td>0</td>\n",
       "      <td>Goalkeeper</td>\n",
       "      <td>0.0</td>\n",
       "    </tr>\n",
       "    <tr>\n",
       "      <th>86</th>\n",
       "      <td>Wissa</td>\n",
       "      <td>Brentford</td>\n",
       "      <td>0</td>\n",
       "      <td>Midfielder</td>\n",
       "      <td>0.0</td>\n",
       "    </tr>\n",
       "  </tbody>\n",
       "</table>\n",
       "<p>529 rows × 5 columns</p>\n",
       "</div>"
      ],
      "text/plain": [
       "    second_name         team  total_points    position  value\n",
       "32     Martínez  Aston Villa           186  Goalkeeper   33.8\n",
       "243      Dallas        Leeds           171  Midfielder   31.1\n",
       "254     Meslier        Leeds           154  Goalkeeper   30.8\n",
       "485   Cresswell     West Ham           153    Defender   27.8\n",
       "40      Targett  Aston Villa           138    Defender   27.6\n",
       "..          ...          ...           ...         ...    ...\n",
       "414   Armstrong  Southampton             0     Forward    0.0\n",
       "415        Hart        Spurs             0  Goalkeeper    0.0\n",
       "112      Andone     Brighton             0     Forward    0.0\n",
       "111    Scherpen     Brighton             0  Goalkeeper    0.0\n",
       "86        Wissa    Brentford             0  Midfielder    0.0\n",
       "\n",
       "[529 rows x 5 columns]"
      ]
     },
     "execution_count": 3,
     "metadata": {},
     "output_type": "execute_result"
    }
   ],
   "source": [
    "slim_elements_df['position'] = slim_elements_df.element_type.map(elements_types_df.set_index('id').singular_name)\n",
    "slim_elements_df['team'] = slim_elements_df.team.map(teams_df.set_index('id').name)\n",
    "slim_elements_df['value'] = slim_elements_df.value_season.astype(float)\n",
    "slim_elements_df = slim_elements_df.drop(columns=['element_type', 'value_season'])\n",
    "slim_elements_df.style.hide_index()\n",
    "slim_elements_df.sort_values('value',ascending=False)"
   ]
  },
  {
   "cell_type": "markdown",
   "metadata": {},
   "source": [
    "# Analysis"
   ]
  },
  {
   "cell_type": "markdown",
   "metadata": {},
   "source": [
    "## Positional Value\n",
    "\n",
    "Note: Players who don't play much (have a value of > 0) are removed. Don't pick players who don't play.\n",
    "\n",
    "Outputs the mean average value of a player by position."
   ]
  },
  {
   "cell_type": "code",
   "execution_count": 4,
   "metadata": {},
   "outputs": [
    {
     "data": {
      "text/html": [
       "<div>\n",
       "<style scoped>\n",
       "    .dataframe tbody tr th:only-of-type {\n",
       "        vertical-align: middle;\n",
       "    }\n",
       "\n",
       "    .dataframe tbody tr th {\n",
       "        vertical-align: top;\n",
       "    }\n",
       "\n",
       "    .dataframe thead th {\n",
       "        text-align: right;\n",
       "    }\n",
       "</style>\n",
       "<table border=\"1\" class=\"dataframe\">\n",
       "  <thead>\n",
       "    <tr style=\"text-align: right;\">\n",
       "      <th></th>\n",
       "      <th>position</th>\n",
       "      <th>value</th>\n",
       "    </tr>\n",
       "  </thead>\n",
       "  <tbody>\n",
       "    <tr>\n",
       "      <th>2</th>\n",
       "      <td>Goalkeeper</td>\n",
       "      <td>14.817647</td>\n",
       "    </tr>\n",
       "    <tr>\n",
       "      <th>0</th>\n",
       "      <td>Defender</td>\n",
       "      <td>13.777165</td>\n",
       "    </tr>\n",
       "    <tr>\n",
       "      <th>3</th>\n",
       "      <td>Midfielder</td>\n",
       "      <td>11.757317</td>\n",
       "    </tr>\n",
       "    <tr>\n",
       "      <th>1</th>\n",
       "      <td>Forward</td>\n",
       "      <td>11.214894</td>\n",
       "    </tr>\n",
       "  </tbody>\n",
       "</table>\n",
       "</div>"
      ],
      "text/plain": [
       "     position      value\n",
       "2  Goalkeeper  14.817647\n",
       "0    Defender  13.777165\n",
       "3  Midfielder  11.757317\n",
       "1     Forward  11.214894"
      ]
     },
     "execution_count": 4,
     "metadata": {},
     "output_type": "execute_result"
    }
   ],
   "source": [
    "slim_elements_df = slim_elements_df.loc[slim_elements_df.value > 0]\n",
    "pivot = slim_elements_df.pivot_table(index='position',values='value',aggfunc=np.mean).reset_index()\n",
    "pivot.sort_values('value',ascending=False)"
   ]
  },
  {
   "cell_type": "markdown",
   "metadata": {},
   "source": [
    "## Team Value\n",
    "\n",
    "Same game but by teams"
   ]
  },
  {
   "cell_type": "code",
   "execution_count": 5,
   "metadata": {},
   "outputs": [
    {
     "data": {
      "text/html": [
       "<div>\n",
       "<style scoped>\n",
       "    .dataframe tbody tr th:only-of-type {\n",
       "        vertical-align: middle;\n",
       "    }\n",
       "\n",
       "    .dataframe tbody tr th {\n",
       "        vertical-align: top;\n",
       "    }\n",
       "\n",
       "    .dataframe thead th {\n",
       "        text-align: right;\n",
       "    }\n",
       "</style>\n",
       "<table border=\"1\" class=\"dataframe\">\n",
       "  <thead>\n",
       "    <tr style=\"text-align: right;\">\n",
       "      <th></th>\n",
       "      <th>team</th>\n",
       "      <th>value</th>\n",
       "    </tr>\n",
       "  </thead>\n",
       "  <tbody>\n",
       "    <tr>\n",
       "      <th>10</th>\n",
       "      <td>Man City</td>\n",
       "      <td>15.261905</td>\n",
       "    </tr>\n",
       "    <tr>\n",
       "      <th>7</th>\n",
       "      <td>Leeds</td>\n",
       "      <td>15.021053</td>\n",
       "    </tr>\n",
       "    <tr>\n",
       "      <th>17</th>\n",
       "      <td>West Ham</td>\n",
       "      <td>14.945000</td>\n",
       "    </tr>\n",
       "    <tr>\n",
       "      <th>8</th>\n",
       "      <td>Leicester</td>\n",
       "      <td>13.842857</td>\n",
       "    </tr>\n",
       "    <tr>\n",
       "      <th>4</th>\n",
       "      <td>Chelsea</td>\n",
       "      <td>13.780000</td>\n",
       "    </tr>\n",
       "    <tr>\n",
       "      <th>1</th>\n",
       "      <td>Aston Villa</td>\n",
       "      <td>13.461905</td>\n",
       "    </tr>\n",
       "    <tr>\n",
       "      <th>0</th>\n",
       "      <td>Arsenal</td>\n",
       "      <td>13.382609</td>\n",
       "    </tr>\n",
       "    <tr>\n",
       "      <th>2</th>\n",
       "      <td>Brighton</td>\n",
       "      <td>13.160000</td>\n",
       "    </tr>\n",
       "    <tr>\n",
       "      <th>11</th>\n",
       "      <td>Man Utd</td>\n",
       "      <td>12.673913</td>\n",
       "    </tr>\n",
       "    <tr>\n",
       "      <th>5</th>\n",
       "      <td>Crystal Palace</td>\n",
       "      <td>12.357895</td>\n",
       "    </tr>\n",
       "    <tr>\n",
       "      <th>15</th>\n",
       "      <td>Spurs</td>\n",
       "      <td>12.100000</td>\n",
       "    </tr>\n",
       "    <tr>\n",
       "      <th>6</th>\n",
       "      <td>Everton</td>\n",
       "      <td>12.029167</td>\n",
       "    </tr>\n",
       "    <tr>\n",
       "      <th>3</th>\n",
       "      <td>Burnley</td>\n",
       "      <td>12.023810</td>\n",
       "    </tr>\n",
       "    <tr>\n",
       "      <th>18</th>\n",
       "      <td>Wolves</td>\n",
       "      <td>12.013636</td>\n",
       "    </tr>\n",
       "    <tr>\n",
       "      <th>14</th>\n",
       "      <td>Southampton</td>\n",
       "      <td>11.220000</td>\n",
       "    </tr>\n",
       "    <tr>\n",
       "      <th>12</th>\n",
       "      <td>Newcastle</td>\n",
       "      <td>10.634783</td>\n",
       "    </tr>\n",
       "    <tr>\n",
       "      <th>9</th>\n",
       "      <td>Liverpool</td>\n",
       "      <td>9.396154</td>\n",
       "    </tr>\n",
       "    <tr>\n",
       "      <th>16</th>\n",
       "      <td>Watford</td>\n",
       "      <td>2.000000</td>\n",
       "    </tr>\n",
       "    <tr>\n",
       "      <th>13</th>\n",
       "      <td>Norwich</td>\n",
       "      <td>1.800000</td>\n",
       "    </tr>\n",
       "  </tbody>\n",
       "</table>\n",
       "</div>"
      ],
      "text/plain": [
       "              team      value\n",
       "10        Man City  15.261905\n",
       "7            Leeds  15.021053\n",
       "17        West Ham  14.945000\n",
       "8        Leicester  13.842857\n",
       "4          Chelsea  13.780000\n",
       "1      Aston Villa  13.461905\n",
       "0          Arsenal  13.382609\n",
       "2         Brighton  13.160000\n",
       "11         Man Utd  12.673913\n",
       "5   Crystal Palace  12.357895\n",
       "15           Spurs  12.100000\n",
       "6          Everton  12.029167\n",
       "3          Burnley  12.023810\n",
       "18          Wolves  12.013636\n",
       "14     Southampton  11.220000\n",
       "12       Newcastle  10.634783\n",
       "9        Liverpool   9.396154\n",
       "16         Watford   2.000000\n",
       "13         Norwich   1.800000"
      ]
     },
     "execution_count": 5,
     "metadata": {},
     "output_type": "execute_result"
    }
   ],
   "source": [
    "team_pivot = slim_elements_df.pivot_table(index='team',values='value',aggfunc=np.mean).reset_index()\n",
    "team_pivot.sort_values('value',ascending=False)"
   ]
  },
  {
   "cell_type": "markdown",
   "metadata": {},
   "source": [
    "## Most valuable player by position"
   ]
  },
  {
   "cell_type": "code",
   "execution_count": 6,
   "metadata": {},
   "outputs": [],
   "source": [
    "fwd_df = slim_elements_df.loc[slim_elements_df.position == 'Forward']\n",
    "mid_df = slim_elements_df.loc[slim_elements_df.position == 'Midfielder']\n",
    "def_df = slim_elements_df.loc[slim_elements_df.position == 'Defender']\n",
    "goal_df = slim_elements_df.loc[slim_elements_df.position == 'Goalkeeper']"
   ]
  },
  {
   "cell_type": "markdown",
   "metadata": {},
   "source": [
    "### Keepers"
   ]
  },
  {
   "cell_type": "code",
   "execution_count": 17,
   "metadata": {},
   "outputs": [
    {
     "data": {
      "text/html": [
       "<div>\n",
       "<style scoped>\n",
       "    .dataframe tbody tr th:only-of-type {\n",
       "        vertical-align: middle;\n",
       "    }\n",
       "\n",
       "    .dataframe tbody tr th {\n",
       "        vertical-align: top;\n",
       "    }\n",
       "\n",
       "    .dataframe thead th {\n",
       "        text-align: right;\n",
       "    }\n",
       "</style>\n",
       "<table border=\"1\" class=\"dataframe\">\n",
       "  <thead>\n",
       "    <tr style=\"text-align: right;\">\n",
       "      <th></th>\n",
       "      <th>second_name</th>\n",
       "      <th>team</th>\n",
       "      <th>total_points</th>\n",
       "      <th>position</th>\n",
       "      <th>value</th>\n",
       "    </tr>\n",
       "  </thead>\n",
       "  <tbody>\n",
       "    <tr>\n",
       "      <th>32</th>\n",
       "      <td>Martínez</td>\n",
       "      <td>Aston Villa</td>\n",
       "      <td>186</td>\n",
       "      <td>Goalkeeper</td>\n",
       "      <td>33.8</td>\n",
       "    </tr>\n",
       "    <tr>\n",
       "      <th>254</th>\n",
       "      <td>Meslier</td>\n",
       "      <td>Leeds</td>\n",
       "      <td>154</td>\n",
       "      <td>Goalkeeper</td>\n",
       "      <td>30.8</td>\n",
       "    </tr>\n",
       "    <tr>\n",
       "      <th>165</th>\n",
       "      <td>Guaita</td>\n",
       "      <td>Crystal Palace</td>\n",
       "      <td>124</td>\n",
       "      <td>Goalkeeper</td>\n",
       "      <td>27.6</td>\n",
       "    </tr>\n",
       "    <tr>\n",
       "      <th>416</th>\n",
       "      <td>Lloris</td>\n",
       "      <td>Spurs</td>\n",
       "      <td>149</td>\n",
       "      <td>Goalkeeper</td>\n",
       "      <td>27.1</td>\n",
       "    </tr>\n",
       "    <tr>\n",
       "      <th>296</th>\n",
       "      <td>Santana de Moraes</td>\n",
       "      <td>Man City</td>\n",
       "      <td>160</td>\n",
       "      <td>Goalkeeper</td>\n",
       "      <td>26.7</td>\n",
       "    </tr>\n",
       "    <tr>\n",
       "      <th>482</th>\n",
       "      <td>Fabianski</td>\n",
       "      <td>West Ham</td>\n",
       "      <td>133</td>\n",
       "      <td>Goalkeeper</td>\n",
       "      <td>26.6</td>\n",
       "    </tr>\n",
       "    <tr>\n",
       "      <th>504</th>\n",
       "      <td>dos Santos Patrício</td>\n",
       "      <td>Wolves</td>\n",
       "      <td>132</td>\n",
       "      <td>Goalkeeper</td>\n",
       "      <td>26.4</td>\n",
       "    </tr>\n",
       "    <tr>\n",
       "      <th>0</th>\n",
       "      <td>Leno</td>\n",
       "      <td>Arsenal</td>\n",
       "      <td>131</td>\n",
       "      <td>Goalkeeper</td>\n",
       "      <td>26.2</td>\n",
       "    </tr>\n",
       "    <tr>\n",
       "      <th>127</th>\n",
       "      <td>Pope</td>\n",
       "      <td>Burnley</td>\n",
       "      <td>144</td>\n",
       "      <td>Goalkeeper</td>\n",
       "      <td>26.2</td>\n",
       "    </tr>\n",
       "    <tr>\n",
       "      <th>212</th>\n",
       "      <td>Schmeichel</td>\n",
       "      <td>Leicester</td>\n",
       "      <td>128</td>\n",
       "      <td>Goalkeeper</td>\n",
       "      <td>25.6</td>\n",
       "    </tr>\n",
       "  </tbody>\n",
       "</table>\n",
       "</div>"
      ],
      "text/plain": [
       "             second_name            team  total_points    position  value\n",
       "32              Martínez     Aston Villa           186  Goalkeeper   33.8\n",
       "254              Meslier           Leeds           154  Goalkeeper   30.8\n",
       "165               Guaita  Crystal Palace           124  Goalkeeper   27.6\n",
       "416               Lloris           Spurs           149  Goalkeeper   27.1\n",
       "296    Santana de Moraes        Man City           160  Goalkeeper   26.7\n",
       "482            Fabianski        West Ham           133  Goalkeeper   26.6\n",
       "504  dos Santos Patrício          Wolves           132  Goalkeeper   26.4\n",
       "0                   Leno         Arsenal           131  Goalkeeper   26.2\n",
       "127                 Pope         Burnley           144  Goalkeeper   26.2\n",
       "212           Schmeichel       Leicester           128  Goalkeeper   25.6"
      ]
     },
     "execution_count": 17,
     "metadata": {},
     "output_type": "execute_result"
    }
   ],
   "source": [
    "# Value players\n",
    "goal_df.sort_values('value',ascending=False).head(10)"
   ]
  },
  {
   "cell_type": "code",
   "execution_count": 18,
   "metadata": {
    "scrolled": true
   },
   "outputs": [
    {
     "data": {
      "text/html": [
       "<div>\n",
       "<style scoped>\n",
       "    .dataframe tbody tr th:only-of-type {\n",
       "        vertical-align: middle;\n",
       "    }\n",
       "\n",
       "    .dataframe tbody tr th {\n",
       "        vertical-align: top;\n",
       "    }\n",
       "\n",
       "    .dataframe thead th {\n",
       "        text-align: right;\n",
       "    }\n",
       "</style>\n",
       "<table border=\"1\" class=\"dataframe\">\n",
       "  <thead>\n",
       "    <tr style=\"text-align: right;\">\n",
       "      <th></th>\n",
       "      <th>second_name</th>\n",
       "      <th>team</th>\n",
       "      <th>total_points</th>\n",
       "      <th>position</th>\n",
       "      <th>value</th>\n",
       "    </tr>\n",
       "  </thead>\n",
       "  <tbody>\n",
       "    <tr>\n",
       "      <th>32</th>\n",
       "      <td>Martínez</td>\n",
       "      <td>Aston Villa</td>\n",
       "      <td>186</td>\n",
       "      <td>Goalkeeper</td>\n",
       "      <td>33.8</td>\n",
       "    </tr>\n",
       "    <tr>\n",
       "      <th>296</th>\n",
       "      <td>Santana de Moraes</td>\n",
       "      <td>Man City</td>\n",
       "      <td>160</td>\n",
       "      <td>Goalkeeper</td>\n",
       "      <td>26.7</td>\n",
       "    </tr>\n",
       "    <tr>\n",
       "      <th>254</th>\n",
       "      <td>Meslier</td>\n",
       "      <td>Leeds</td>\n",
       "      <td>154</td>\n",
       "      <td>Goalkeeper</td>\n",
       "      <td>30.8</td>\n",
       "    </tr>\n",
       "    <tr>\n",
       "      <th>416</th>\n",
       "      <td>Lloris</td>\n",
       "      <td>Spurs</td>\n",
       "      <td>149</td>\n",
       "      <td>Goalkeeper</td>\n",
       "      <td>27.1</td>\n",
       "    </tr>\n",
       "    <tr>\n",
       "      <th>127</th>\n",
       "      <td>Pope</td>\n",
       "      <td>Burnley</td>\n",
       "      <td>144</td>\n",
       "      <td>Goalkeeper</td>\n",
       "      <td>26.2</td>\n",
       "    </tr>\n",
       "    <tr>\n",
       "      <th>268</th>\n",
       "      <td>Ramses Becker</td>\n",
       "      <td>Liverpool</td>\n",
       "      <td>140</td>\n",
       "      <td>Goalkeeper</td>\n",
       "      <td>23.3</td>\n",
       "    </tr>\n",
       "    <tr>\n",
       "      <th>160</th>\n",
       "      <td>Mendy</td>\n",
       "      <td>Chelsea</td>\n",
       "      <td>140</td>\n",
       "      <td>Goalkeeper</td>\n",
       "      <td>23.3</td>\n",
       "    </tr>\n",
       "    <tr>\n",
       "      <th>482</th>\n",
       "      <td>Fabianski</td>\n",
       "      <td>West Ham</td>\n",
       "      <td>133</td>\n",
       "      <td>Goalkeeper</td>\n",
       "      <td>26.6</td>\n",
       "    </tr>\n",
       "    <tr>\n",
       "      <th>504</th>\n",
       "      <td>dos Santos Patrício</td>\n",
       "      <td>Wolves</td>\n",
       "      <td>132</td>\n",
       "      <td>Goalkeeper</td>\n",
       "      <td>26.4</td>\n",
       "    </tr>\n",
       "    <tr>\n",
       "      <th>0</th>\n",
       "      <td>Leno</td>\n",
       "      <td>Arsenal</td>\n",
       "      <td>131</td>\n",
       "      <td>Goalkeeper</td>\n",
       "      <td>26.2</td>\n",
       "    </tr>\n",
       "  </tbody>\n",
       "</table>\n",
       "</div>"
      ],
      "text/plain": [
       "             second_name         team  total_points    position  value\n",
       "32              Martínez  Aston Villa           186  Goalkeeper   33.8\n",
       "296    Santana de Moraes     Man City           160  Goalkeeper   26.7\n",
       "254              Meslier        Leeds           154  Goalkeeper   30.8\n",
       "416               Lloris        Spurs           149  Goalkeeper   27.1\n",
       "127                 Pope      Burnley           144  Goalkeeper   26.2\n",
       "268        Ramses Becker    Liverpool           140  Goalkeeper   23.3\n",
       "160                Mendy      Chelsea           140  Goalkeeper   23.3\n",
       "482            Fabianski     West Ham           133  Goalkeeper   26.6\n",
       "504  dos Santos Patrício       Wolves           132  Goalkeeper   26.4\n",
       "0                   Leno      Arsenal           131  Goalkeeper   26.2"
      ]
     },
     "execution_count": 18,
     "metadata": {},
     "output_type": "execute_result"
    }
   ],
   "source": [
    "# points players\n",
    "goal_df.sort_values('total_points',ascending=False).head(10)"
   ]
  },
  {
   "cell_type": "code",
   "execution_count": 16,
   "metadata": {
    "scrolled": true
   },
   "outputs": [
    {
     "data": {
      "text/plain": [
       "<AxesSubplot:>"
      ]
     },
     "execution_count": 16,
     "metadata": {},
     "output_type": "execute_result"
    },
    {
     "data": {
      "image/png": "[encoded data removed]",
      "text/plain": [
       "<Figure size 432x288 with 1 Axes>"
      ]
     },
     "metadata": {
      "needs_background": "light"
     },
     "output_type": "display_data"
    }
   ],
   "source": [
    "# Value spread\n",
    "goal_df.value.hist()"
   ]
  },
  {
   "cell_type": "code",
   "execution_count": 15,
   "metadata": {
    "scrolled": true
   },
   "outputs": [
    {
     "data": {
      "text/plain": [
       "<AxesSubplot:>"
      ]
     },
     "execution_count": 15,
     "metadata": {},
     "output_type": "execute_result"
    },
    {
     "data": {
      "image/png": "[encoded data removed]",
      "text/plain": [
       "<Figure size 432x288 with 1 Axes>"
      ]
     },
     "metadata": {
      "needs_background": "light"
     },
     "output_type": "display_data"
    }
   ],
   "source": [
    "# Total Points Spread\n",
    "goal_df.total_points.hist()"
   ]
  },
  {
   "cell_type": "markdown",
   "metadata": {},
   "source": [
    "### Defenders"
   ]
  },
  {
   "cell_type": "code",
   "execution_count": 17,
   "metadata": {
    "scrolled": true
   },
   "outputs": [
    {
     "data": {
      "text/html": [
       "<div>\n",
       "<style scoped>\n",
       "    .dataframe tbody tr th:only-of-type {\n",
       "        vertical-align: middle;\n",
       "    }\n",
       "\n",
       "    .dataframe tbody tr th {\n",
       "        vertical-align: top;\n",
       "    }\n",
       "\n",
       "    .dataframe thead th {\n",
       "        text-align: right;\n",
       "    }\n",
       "</style>\n",
       "<table border=\"1\" class=\"dataframe\">\n",
       "  <thead>\n",
       "    <tr style=\"text-align: right;\">\n",
       "      <th></th>\n",
       "      <th>second_name</th>\n",
       "      <th>team</th>\n",
       "      <th>total_points</th>\n",
       "      <th>position</th>\n",
       "      <th>value</th>\n",
       "    </tr>\n",
       "  </thead>\n",
       "  <tbody>\n",
       "    <tr>\n",
       "      <th>32</th>\n",
       "      <td>Martínez</td>\n",
       "      <td>Aston Villa</td>\n",
       "      <td>186</td>\n",
       "      <td>Goalkeeper</td>\n",
       "      <td>33.8</td>\n",
       "    </tr>\n",
       "    <tr>\n",
       "      <th>254</th>\n",
       "      <td>Meslier</td>\n",
       "      <td>Leeds</td>\n",
       "      <td>154</td>\n",
       "      <td>Goalkeeper</td>\n",
       "      <td>30.8</td>\n",
       "    </tr>\n",
       "    <tr>\n",
       "      <th>165</th>\n",
       "      <td>Guaita</td>\n",
       "      <td>Crystal Palace</td>\n",
       "      <td>124</td>\n",
       "      <td>Goalkeeper</td>\n",
       "      <td>27.6</td>\n",
       "    </tr>\n",
       "    <tr>\n",
       "      <th>416</th>\n",
       "      <td>Lloris</td>\n",
       "      <td>Spurs</td>\n",
       "      <td>149</td>\n",
       "      <td>Goalkeeper</td>\n",
       "      <td>27.1</td>\n",
       "    </tr>\n",
       "    <tr>\n",
       "      <th>296</th>\n",
       "      <td>Santana de Moraes</td>\n",
       "      <td>Man City</td>\n",
       "      <td>160</td>\n",
       "      <td>Goalkeeper</td>\n",
       "      <td>26.7</td>\n",
       "    </tr>\n",
       "    <tr>\n",
       "      <th>482</th>\n",
       "      <td>Fabianski</td>\n",
       "      <td>West Ham</td>\n",
       "      <td>133</td>\n",
       "      <td>Goalkeeper</td>\n",
       "      <td>26.6</td>\n",
       "    </tr>\n",
       "    <tr>\n",
       "      <th>504</th>\n",
       "      <td>dos Santos Patrício</td>\n",
       "      <td>Wolves</td>\n",
       "      <td>132</td>\n",
       "      <td>Goalkeeper</td>\n",
       "      <td>26.4</td>\n",
       "    </tr>\n",
       "    <tr>\n",
       "      <th>0</th>\n",
       "      <td>Leno</td>\n",
       "      <td>Arsenal</td>\n",
       "      <td>131</td>\n",
       "      <td>Goalkeeper</td>\n",
       "      <td>26.2</td>\n",
       "    </tr>\n",
       "    <tr>\n",
       "      <th>127</th>\n",
       "      <td>Pope</td>\n",
       "      <td>Burnley</td>\n",
       "      <td>144</td>\n",
       "      <td>Goalkeeper</td>\n",
       "      <td>26.2</td>\n",
       "    </tr>\n",
       "    <tr>\n",
       "      <th>212</th>\n",
       "      <td>Schmeichel</td>\n",
       "      <td>Leicester</td>\n",
       "      <td>128</td>\n",
       "      <td>Goalkeeper</td>\n",
       "      <td>25.6</td>\n",
       "    </tr>\n",
       "  </tbody>\n",
       "</table>\n",
       "</div>"
      ],
      "text/plain": [
       "             second_name            team  total_points    position  value\n",
       "32              Martínez     Aston Villa           186  Goalkeeper   33.8\n",
       "254              Meslier           Leeds           154  Goalkeeper   30.8\n",
       "165               Guaita  Crystal Palace           124  Goalkeeper   27.6\n",
       "416               Lloris           Spurs           149  Goalkeeper   27.1\n",
       "296    Santana de Moraes        Man City           160  Goalkeeper   26.7\n",
       "482            Fabianski        West Ham           133  Goalkeeper   26.6\n",
       "504  dos Santos Patrício          Wolves           132  Goalkeeper   26.4\n",
       "0                   Leno         Arsenal           131  Goalkeeper   26.2\n",
       "127                 Pope         Burnley           144  Goalkeeper   26.2\n",
       "212           Schmeichel       Leicester           128  Goalkeeper   25.6"
      ]
     },
     "execution_count": 17,
     "metadata": {},
     "output_type": "execute_result"
    }
   ],
   "source": [
    "# Value players\n",
    "def_df.sort_values('value',ascending=False).head(10)"
   ]
  },
  {
   "cell_type": "code",
   "execution_count": 18,
   "metadata": {
    "scrolled": false
   },
   "outputs": [
    {
     "data": {
      "text/html": [
       "<div>\n",
       "<style scoped>\n",
       "    .dataframe tbody tr th:only-of-type {\n",
       "        vertical-align: middle;\n",
       "    }\n",
       "\n",
       "    .dataframe tbody tr th {\n",
       "        vertical-align: top;\n",
       "    }\n",
       "\n",
       "    .dataframe thead th {\n",
       "        text-align: right;\n",
       "    }\n",
       "</style>\n",
       "<table border=\"1\" class=\"dataframe\">\n",
       "  <thead>\n",
       "    <tr style=\"text-align: right;\">\n",
       "      <th></th>\n",
       "      <th>second_name</th>\n",
       "      <th>team</th>\n",
       "      <th>total_points</th>\n",
       "      <th>position</th>\n",
       "      <th>value</th>\n",
       "    </tr>\n",
       "  </thead>\n",
       "  <tbody>\n",
       "    <tr>\n",
       "      <th>32</th>\n",
       "      <td>Martínez</td>\n",
       "      <td>Aston Villa</td>\n",
       "      <td>186</td>\n",
       "      <td>Goalkeeper</td>\n",
       "      <td>33.8</td>\n",
       "    </tr>\n",
       "    <tr>\n",
       "      <th>296</th>\n",
       "      <td>Santana de Moraes</td>\n",
       "      <td>Man City</td>\n",
       "      <td>160</td>\n",
       "      <td>Goalkeeper</td>\n",
       "      <td>26.7</td>\n",
       "    </tr>\n",
       "    <tr>\n",
       "      <th>254</th>\n",
       "      <td>Meslier</td>\n",
       "      <td>Leeds</td>\n",
       "      <td>154</td>\n",
       "      <td>Goalkeeper</td>\n",
       "      <td>30.8</td>\n",
       "    </tr>\n",
       "    <tr>\n",
       "      <th>416</th>\n",
       "      <td>Lloris</td>\n",
       "      <td>Spurs</td>\n",
       "      <td>149</td>\n",
       "      <td>Goalkeeper</td>\n",
       "      <td>27.1</td>\n",
       "    </tr>\n",
       "    <tr>\n",
       "      <th>127</th>\n",
       "      <td>Pope</td>\n",
       "      <td>Burnley</td>\n",
       "      <td>144</td>\n",
       "      <td>Goalkeeper</td>\n",
       "      <td>26.2</td>\n",
       "    </tr>\n",
       "    <tr>\n",
       "      <th>268</th>\n",
       "      <td>Ramses Becker</td>\n",
       "      <td>Liverpool</td>\n",
       "      <td>140</td>\n",
       "      <td>Goalkeeper</td>\n",
       "      <td>23.3</td>\n",
       "    </tr>\n",
       "    <tr>\n",
       "      <th>160</th>\n",
       "      <td>Mendy</td>\n",
       "      <td>Chelsea</td>\n",
       "      <td>140</td>\n",
       "      <td>Goalkeeper</td>\n",
       "      <td>23.3</td>\n",
       "    </tr>\n",
       "    <tr>\n",
       "      <th>482</th>\n",
       "      <td>Fabianski</td>\n",
       "      <td>West Ham</td>\n",
       "      <td>133</td>\n",
       "      <td>Goalkeeper</td>\n",
       "      <td>26.6</td>\n",
       "    </tr>\n",
       "    <tr>\n",
       "      <th>504</th>\n",
       "      <td>dos Santos Patrício</td>\n",
       "      <td>Wolves</td>\n",
       "      <td>132</td>\n",
       "      <td>Goalkeeper</td>\n",
       "      <td>26.4</td>\n",
       "    </tr>\n",
       "    <tr>\n",
       "      <th>0</th>\n",
       "      <td>Leno</td>\n",
       "      <td>Arsenal</td>\n",
       "      <td>131</td>\n",
       "      <td>Goalkeeper</td>\n",
       "      <td>26.2</td>\n",
       "    </tr>\n",
       "  </tbody>\n",
       "</table>\n",
       "</div>"
      ],
      "text/plain": [
       "             second_name         team  total_points    position  value\n",
       "32              Martínez  Aston Villa           186  Goalkeeper   33.8\n",
       "296    Santana de Moraes     Man City           160  Goalkeeper   26.7\n",
       "254              Meslier        Leeds           154  Goalkeeper   30.8\n",
       "416               Lloris        Spurs           149  Goalkeeper   27.1\n",
       "127                 Pope      Burnley           144  Goalkeeper   26.2\n",
       "268        Ramses Becker    Liverpool           140  Goalkeeper   23.3\n",
       "160                Mendy      Chelsea           140  Goalkeeper   23.3\n",
       "482            Fabianski     West Ham           133  Goalkeeper   26.6\n",
       "504  dos Santos Patrício       Wolves           132  Goalkeeper   26.4\n",
       "0                   Leno      Arsenal           131  Goalkeeper   26.2"
      ]
     },
     "execution_count": 18,
     "metadata": {},
     "output_type": "execute_result"
    }
   ],
   "source": [
    "# points players\n",
    "def_df.sort_values('total_points',ascending=False).head(10)"
   ]
  },
  {
   "cell_type": "code",
   "execution_count": 16,
   "metadata": {
    "scrolled": false
   },
   "outputs": [
    {
     "data": {
      "text/plain": [
       "<AxesSubplot:>"
      ]
     },
     "execution_count": 16,
     "metadata": {},
     "output_type": "execute_result"
    },
    {
     "data": {
      "image/png": "[encoded data removed]",
      "text/plain": [
       "<Figure size 432x288 with 1 Axes>"
      ]
     },
     "metadata": {
      "needs_background": "light"
     },
     "output_type": "display_data"
    }
   ],
   "source": [
    "# Value spread\n",
    "def_df.value.hist()"
   ]
  },
  {
   "cell_type": "code",
   "execution_count": 15,
   "metadata": {
    "scrolled": false
   },
   "outputs": [
    {
     "data": {
      "text/plain": [
       "<AxesSubplot:>"
      ]
     },
     "execution_count": 15,
     "metadata": {},
     "output_type": "execute_result"
    },
    {
     "data": {
      "image/png": "[encoded data removed]",
      "text/plain": [
       "<Figure size 432x288 with 1 Axes>"
      ]
     },
     "metadata": {
      "needs_background": "light"
     },
     "output_type": "display_data"
    }
   ],
   "source": [
    "# Total Points Spread\n",
    "def_df.total_points.hist()"
   ]
  },
  {
   "cell_type": "markdown",
   "metadata": {},
   "source": [
    "### Midfielders"
   ]
  },
  {
   "cell_type": "code",
   "execution_count": 17,
   "metadata": {
    "scrolled": false
   },
   "outputs": [
    {
     "data": {
      "text/html": [
       "<div>\n",
       "<style scoped>\n",
       "    .dataframe tbody tr th:only-of-type {\n",
       "        vertical-align: middle;\n",
       "    }\n",
       "\n",
       "    .dataframe tbody tr th {\n",
       "        vertical-align: top;\n",
       "    }\n",
       "\n",
       "    .dataframe thead th {\n",
       "        text-align: right;\n",
       "    }\n",
       "</style>\n",
       "<table border=\"1\" class=\"dataframe\">\n",
       "  <thead>\n",
       "    <tr style=\"text-align: right;\">\n",
       "      <th></th>\n",
       "      <th>second_name</th>\n",
       "      <th>team</th>\n",
       "      <th>total_points</th>\n",
       "      <th>position</th>\n",
       "      <th>value</th>\n",
       "    </tr>\n",
       "  </thead>\n",
       "  <tbody>\n",
       "    <tr>\n",
       "      <th>32</th>\n",
       "      <td>Martínez</td>\n",
       "      <td>Aston Villa</td>\n",
       "      <td>186</td>\n",
       "      <td>Goalkeeper</td>\n",
       "      <td>33.8</td>\n",
       "    </tr>\n",
       "    <tr>\n",
       "      <th>254</th>\n",
       "      <td>Meslier</td>\n",
       "      <td>Leeds</td>\n",
       "      <td>154</td>\n",
       "      <td>Goalkeeper</td>\n",
       "      <td>30.8</td>\n",
       "    </tr>\n",
       "    <tr>\n",
       "      <th>165</th>\n",
       "      <td>Guaita</td>\n",
       "      <td>Crystal Palace</td>\n",
       "      <td>124</td>\n",
       "      <td>Goalkeeper</td>\n",
       "      <td>27.6</td>\n",
       "    </tr>\n",
       "    <tr>\n",
       "      <th>416</th>\n",
       "      <td>Lloris</td>\n",
       "      <td>Spurs</td>\n",
       "      <td>149</td>\n",
       "      <td>Goalkeeper</td>\n",
       "      <td>27.1</td>\n",
       "    </tr>\n",
       "    <tr>\n",
       "      <th>296</th>\n",
       "      <td>Santana de Moraes</td>\n",
       "      <td>Man City</td>\n",
       "      <td>160</td>\n",
       "      <td>Goalkeeper</td>\n",
       "      <td>26.7</td>\n",
       "    </tr>\n",
       "    <tr>\n",
       "      <th>482</th>\n",
       "      <td>Fabianski</td>\n",
       "      <td>West Ham</td>\n",
       "      <td>133</td>\n",
       "      <td>Goalkeeper</td>\n",
       "      <td>26.6</td>\n",
       "    </tr>\n",
       "    <tr>\n",
       "      <th>504</th>\n",
       "      <td>dos Santos Patrício</td>\n",
       "      <td>Wolves</td>\n",
       "      <td>132</td>\n",
       "      <td>Goalkeeper</td>\n",
       "      <td>26.4</td>\n",
       "    </tr>\n",
       "    <tr>\n",
       "      <th>0</th>\n",
       "      <td>Leno</td>\n",
       "      <td>Arsenal</td>\n",
       "      <td>131</td>\n",
       "      <td>Goalkeeper</td>\n",
       "      <td>26.2</td>\n",
       "    </tr>\n",
       "    <tr>\n",
       "      <th>127</th>\n",
       "      <td>Pope</td>\n",
       "      <td>Burnley</td>\n",
       "      <td>144</td>\n",
       "      <td>Goalkeeper</td>\n",
       "      <td>26.2</td>\n",
       "    </tr>\n",
       "    <tr>\n",
       "      <th>212</th>\n",
       "      <td>Schmeichel</td>\n",
       "      <td>Leicester</td>\n",
       "      <td>128</td>\n",
       "      <td>Goalkeeper</td>\n",
       "      <td>25.6</td>\n",
       "    </tr>\n",
       "  </tbody>\n",
       "</table>\n",
       "</div>"
      ],
      "text/plain": [
       "             second_name            team  total_points    position  value\n",
       "32              Martínez     Aston Villa           186  Goalkeeper   33.8\n",
       "254              Meslier           Leeds           154  Goalkeeper   30.8\n",
       "165               Guaita  Crystal Palace           124  Goalkeeper   27.6\n",
       "416               Lloris           Spurs           149  Goalkeeper   27.1\n",
       "296    Santana de Moraes        Man City           160  Goalkeeper   26.7\n",
       "482            Fabianski        West Ham           133  Goalkeeper   26.6\n",
       "504  dos Santos Patrício          Wolves           132  Goalkeeper   26.4\n",
       "0                   Leno         Arsenal           131  Goalkeeper   26.2\n",
       "127                 Pope         Burnley           144  Goalkeeper   26.2\n",
       "212           Schmeichel       Leicester           128  Goalkeeper   25.6"
      ]
     },
     "execution_count": 17,
     "metadata": {},
     "output_type": "execute_result"
    }
   ],
   "source": [
    "# Value players\n",
    "mid_df.sort_values('value',ascending=False).head(10)"
   ]
  },
  {
   "cell_type": "code",
   "execution_count": 18,
   "metadata": {
    "scrolled": false
   },
   "outputs": [
    {
     "data": {
      "text/html": [
       "<div>\n",
       "<style scoped>\n",
       "    .dataframe tbody tr th:only-of-type {\n",
       "        vertical-align: middle;\n",
       "    }\n",
       "\n",
       "    .dataframe tbody tr th {\n",
       "        vertical-align: top;\n",
       "    }\n",
       "\n",
       "    .dataframe thead th {\n",
       "        text-align: right;\n",
       "    }\n",
       "</style>\n",
       "<table border=\"1\" class=\"dataframe\">\n",
       "  <thead>\n",
       "    <tr style=\"text-align: right;\">\n",
       "      <th></th>\n",
       "      <th>second_name</th>\n",
       "      <th>team</th>\n",
       "      <th>total_points</th>\n",
       "      <th>position</th>\n",
       "      <th>value</th>\n",
       "    </tr>\n",
       "  </thead>\n",
       "  <tbody>\n",
       "    <tr>\n",
       "      <th>32</th>\n",
       "      <td>Martínez</td>\n",
       "      <td>Aston Villa</td>\n",
       "      <td>186</td>\n",
       "      <td>Goalkeeper</td>\n",
       "      <td>33.8</td>\n",
       "    </tr>\n",
       "    <tr>\n",
       "      <th>296</th>\n",
       "      <td>Santana de Moraes</td>\n",
       "      <td>Man City</td>\n",
       "      <td>160</td>\n",
       "      <td>Goalkeeper</td>\n",
       "      <td>26.7</td>\n",
       "    </tr>\n",
       "    <tr>\n",
       "      <th>254</th>\n",
       "      <td>Meslier</td>\n",
       "      <td>Leeds</td>\n",
       "      <td>154</td>\n",
       "      <td>Goalkeeper</td>\n",
       "      <td>30.8</td>\n",
       "    </tr>\n",
       "    <tr>\n",
       "      <th>416</th>\n",
       "      <td>Lloris</td>\n",
       "      <td>Spurs</td>\n",
       "      <td>149</td>\n",
       "      <td>Goalkeeper</td>\n",
       "      <td>27.1</td>\n",
       "    </tr>\n",
       "    <tr>\n",
       "      <th>127</th>\n",
       "      <td>Pope</td>\n",
       "      <td>Burnley</td>\n",
       "      <td>144</td>\n",
       "      <td>Goalkeeper</td>\n",
       "      <td>26.2</td>\n",
       "    </tr>\n",
       "    <tr>\n",
       "      <th>268</th>\n",
       "      <td>Ramses Becker</td>\n",
       "      <td>Liverpool</td>\n",
       "      <td>140</td>\n",
       "      <td>Goalkeeper</td>\n",
       "      <td>23.3</td>\n",
       "    </tr>\n",
       "    <tr>\n",
       "      <th>160</th>\n",
       "      <td>Mendy</td>\n",
       "      <td>Chelsea</td>\n",
       "      <td>140</td>\n",
       "      <td>Goalkeeper</td>\n",
       "      <td>23.3</td>\n",
       "    </tr>\n",
       "    <tr>\n",
       "      <th>482</th>\n",
       "      <td>Fabianski</td>\n",
       "      <td>West Ham</td>\n",
       "      <td>133</td>\n",
       "      <td>Goalkeeper</td>\n",
       "      <td>26.6</td>\n",
       "    </tr>\n",
       "    <tr>\n",
       "      <th>504</th>\n",
       "      <td>dos Santos Patrício</td>\n",
       "      <td>Wolves</td>\n",
       "      <td>132</td>\n",
       "      <td>Goalkeeper</td>\n",
       "      <td>26.4</td>\n",
       "    </tr>\n",
       "    <tr>\n",
       "      <th>0</th>\n",
       "      <td>Leno</td>\n",
       "      <td>Arsenal</td>\n",
       "      <td>131</td>\n",
       "      <td>Goalkeeper</td>\n",
       "      <td>26.2</td>\n",
       "    </tr>\n",
       "  </tbody>\n",
       "</table>\n",
       "</div>"
      ],
      "text/plain": [
       "             second_name         team  total_points    position  value\n",
       "32              Martínez  Aston Villa           186  Goalkeeper   33.8\n",
       "296    Santana de Moraes     Man City           160  Goalkeeper   26.7\n",
       "254              Meslier        Leeds           154  Goalkeeper   30.8\n",
       "416               Lloris        Spurs           149  Goalkeeper   27.1\n",
       "127                 Pope      Burnley           144  Goalkeeper   26.2\n",
       "268        Ramses Becker    Liverpool           140  Goalkeeper   23.3\n",
       "160                Mendy      Chelsea           140  Goalkeeper   23.3\n",
       "482            Fabianski     West Ham           133  Goalkeeper   26.6\n",
       "504  dos Santos Patrício       Wolves           132  Goalkeeper   26.4\n",
       "0                   Leno      Arsenal           131  Goalkeeper   26.2"
      ]
     },
     "execution_count": 18,
     "metadata": {},
     "output_type": "execute_result"
    }
   ],
   "source": [
    "# points players\n",
    "mid_df.sort_values('total_points',ascending=False).head(10)"
   ]
  },
  {
   "cell_type": "code",
   "execution_count": 16,
   "metadata": {
    "scrolled": false
   },
   "outputs": [
    {
     "data": {
      "text/plain": [
       "<AxesSubplot:>"
      ]
     },
     "execution_count": 16,
     "metadata": {},
     "output_type": "execute_result"
    },
    {
     "data": {
      "image/png": "[encoded data removed]",
      "text/plain": [
       "<Figure size 432x288 with 1 Axes>"
      ]
     },
     "metadata": {
      "needs_background": "light"
     },
     "output_type": "display_data"
    }
   ],
   "source": [
    "# Value spread\n",
    "mid_df.value.hist()"
   ]
  },
  {
   "cell_type": "code",
   "execution_count": 15,
   "metadata": {
    "scrolled": false
   },
   "outputs": [
    {
     "data": {
      "text/plain": [
       "<AxesSubplot:>"
      ]
     },
     "execution_count": 15,
     "metadata": {},
     "output_type": "execute_result"
    },
    {
     "data": {
      "image/png": "[encoded data removed]",
      "text/plain": [
       "<Figure size 432x288 with 1 Axes>"
      ]
     },
     "metadata": {
      "needs_background": "light"
     },
     "output_type": "display_data"
    }
   ],
   "source": [
    "# Total Points Spread\n",
    "mid_df.total_points.hist()"
   ]
  },
  {
   "cell_type": "markdown",
   "metadata": {},
   "source": [
    "### Forwards"
   ]
  },
  {
   "cell_type": "code",
   "execution_count": 17,
   "metadata": {
    "scrolled": false
   },
   "outputs": [
    {
     "data": {
      "text/html": [
       "<div>\n",
       "<style scoped>\n",
       "    .dataframe tbody tr th:only-of-type {\n",
       "        vertical-align: middle;\n",
       "    }\n",
       "\n",
       "    .dataframe tbody tr th {\n",
       "        vertical-align: top;\n",
       "    }\n",
       "\n",
       "    .dataframe thead th {\n",
       "        text-align: right;\n",
       "    }\n",
       "</style>\n",
       "<table border=\"1\" class=\"dataframe\">\n",
       "  <thead>\n",
       "    <tr style=\"text-align: right;\">\n",
       "      <th></th>\n",
       "      <th>second_name</th>\n",
       "      <th>team</th>\n",
       "      <th>total_points</th>\n",
       "      <th>position</th>\n",
       "      <th>value</th>\n",
       "    </tr>\n",
       "  </thead>\n",
       "  <tbody>\n",
       "    <tr>\n",
       "      <th>32</th>\n",
       "      <td>Martínez</td>\n",
       "      <td>Aston Villa</td>\n",
       "      <td>186</td>\n",
       "      <td>Goalkeeper</td>\n",
       "      <td>33.8</td>\n",
       "    </tr>\n",
       "    <tr>\n",
       "      <th>254</th>\n",
       "      <td>Meslier</td>\n",
       "      <td>Leeds</td>\n",
       "      <td>154</td>\n",
       "      <td>Goalkeeper</td>\n",
       "      <td>30.8</td>\n",
       "    </tr>\n",
       "    <tr>\n",
       "      <th>165</th>\n",
       "      <td>Guaita</td>\n",
       "      <td>Crystal Palace</td>\n",
       "      <td>124</td>\n",
       "      <td>Goalkeeper</td>\n",
       "      <td>27.6</td>\n",
       "    </tr>\n",
       "    <tr>\n",
       "      <th>416</th>\n",
       "      <td>Lloris</td>\n",
       "      <td>Spurs</td>\n",
       "      <td>149</td>\n",
       "      <td>Goalkeeper</td>\n",
       "      <td>27.1</td>\n",
       "    </tr>\n",
       "    <tr>\n",
       "      <th>296</th>\n",
       "      <td>Santana de Moraes</td>\n",
       "      <td>Man City</td>\n",
       "      <td>160</td>\n",
       "      <td>Goalkeeper</td>\n",
       "      <td>26.7</td>\n",
       "    </tr>\n",
       "    <tr>\n",
       "      <th>482</th>\n",
       "      <td>Fabianski</td>\n",
       "      <td>West Ham</td>\n",
       "      <td>133</td>\n",
       "      <td>Goalkeeper</td>\n",
       "      <td>26.6</td>\n",
       "    </tr>\n",
       "    <tr>\n",
       "      <th>504</th>\n",
       "      <td>dos Santos Patrício</td>\n",
       "      <td>Wolves</td>\n",
       "      <td>132</td>\n",
       "      <td>Goalkeeper</td>\n",
       "      <td>26.4</td>\n",
       "    </tr>\n",
       "    <tr>\n",
       "      <th>0</th>\n",
       "      <td>Leno</td>\n",
       "      <td>Arsenal</td>\n",
       "      <td>131</td>\n",
       "      <td>Goalkeeper</td>\n",
       "      <td>26.2</td>\n",
       "    </tr>\n",
       "    <tr>\n",
       "      <th>127</th>\n",
       "      <td>Pope</td>\n",
       "      <td>Burnley</td>\n",
       "      <td>144</td>\n",
       "      <td>Goalkeeper</td>\n",
       "      <td>26.2</td>\n",
       "    </tr>\n",
       "    <tr>\n",
       "      <th>212</th>\n",
       "      <td>Schmeichel</td>\n",
       "      <td>Leicester</td>\n",
       "      <td>128</td>\n",
       "      <td>Goalkeeper</td>\n",
       "      <td>25.6</td>\n",
       "    </tr>\n",
       "  </tbody>\n",
       "</table>\n",
       "</div>"
      ],
      "text/plain": [
       "             second_name            team  total_points    position  value\n",
       "32              Martínez     Aston Villa           186  Goalkeeper   33.8\n",
       "254              Meslier           Leeds           154  Goalkeeper   30.8\n",
       "165               Guaita  Crystal Palace           124  Goalkeeper   27.6\n",
       "416               Lloris           Spurs           149  Goalkeeper   27.1\n",
       "296    Santana de Moraes        Man City           160  Goalkeeper   26.7\n",
       "482            Fabianski        West Ham           133  Goalkeeper   26.6\n",
       "504  dos Santos Patrício          Wolves           132  Goalkeeper   26.4\n",
       "0                   Leno         Arsenal           131  Goalkeeper   26.2\n",
       "127                 Pope         Burnley           144  Goalkeeper   26.2\n",
       "212           Schmeichel       Leicester           128  Goalkeeper   25.6"
      ]
     },
     "execution_count": 17,
     "metadata": {},
     "output_type": "execute_result"
    }
   ],
   "source": [
    "# Value players\n",
    "fwd_df.sort_values('value',ascending=False).head(10)"
   ]
  },
  {
   "cell_type": "code",
   "execution_count": 18,
   "metadata": {
    "scrolled": false
   },
   "outputs": [
    {
     "data": {
      "text/html": [
       "<div>\n",
       "<style scoped>\n",
       "    .dataframe tbody tr th:only-of-type {\n",
       "        vertical-align: middle;\n",
       "    }\n",
       "\n",
       "    .dataframe tbody tr th {\n",
       "        vertical-align: top;\n",
       "    }\n",
       "\n",
       "    .dataframe thead th {\n",
       "        text-align: right;\n",
       "    }\n",
       "</style>\n",
       "<table border=\"1\" class=\"dataframe\">\n",
       "  <thead>\n",
       "    <tr style=\"text-align: right;\">\n",
       "      <th></th>\n",
       "      <th>second_name</th>\n",
       "      <th>team</th>\n",
       "      <th>total_points</th>\n",
       "      <th>position</th>\n",
       "      <th>value</th>\n",
       "    </tr>\n",
       "  </thead>\n",
       "  <tbody>\n",
       "    <tr>\n",
       "      <th>32</th>\n",
       "      <td>Martínez</td>\n",
       "      <td>Aston Villa</td>\n",
       "      <td>186</td>\n",
       "      <td>Goalkeeper</td>\n",
       "      <td>33.8</td>\n",
       "    </tr>\n",
       "    <tr>\n",
       "      <th>296</th>\n",
       "      <td>Santana de Moraes</td>\n",
       "      <td>Man City</td>\n",
       "      <td>160</td>\n",
       "      <td>Goalkeeper</td>\n",
       "      <td>26.7</td>\n",
       "    </tr>\n",
       "    <tr>\n",
       "      <th>254</th>\n",
       "      <td>Meslier</td>\n",
       "      <td>Leeds</td>\n",
       "      <td>154</td>\n",
       "      <td>Goalkeeper</td>\n",
       "      <td>30.8</td>\n",
       "    </tr>\n",
       "    <tr>\n",
       "      <th>416</th>\n",
       "      <td>Lloris</td>\n",
       "      <td>Spurs</td>\n",
       "      <td>149</td>\n",
       "      <td>Goalkeeper</td>\n",
       "      <td>27.1</td>\n",
       "    </tr>\n",
       "    <tr>\n",
       "      <th>127</th>\n",
       "      <td>Pope</td>\n",
       "      <td>Burnley</td>\n",
       "      <td>144</td>\n",
       "      <td>Goalkeeper</td>\n",
       "      <td>26.2</td>\n",
       "    </tr>\n",
       "    <tr>\n",
       "      <th>268</th>\n",
       "      <td>Ramses Becker</td>\n",
       "      <td>Liverpool</td>\n",
       "      <td>140</td>\n",
       "      <td>Goalkeeper</td>\n",
       "      <td>23.3</td>\n",
       "    </tr>\n",
       "    <tr>\n",
       "      <th>160</th>\n",
       "      <td>Mendy</td>\n",
       "      <td>Chelsea</td>\n",
       "      <td>140</td>\n",
       "      <td>Goalkeeper</td>\n",
       "      <td>23.3</td>\n",
       "    </tr>\n",
       "    <tr>\n",
       "      <th>482</th>\n",
       "      <td>Fabianski</td>\n",
       "      <td>West Ham</td>\n",
       "      <td>133</td>\n",
       "      <td>Goalkeeper</td>\n",
       "      <td>26.6</td>\n",
       "    </tr>\n",
       "    <tr>\n",
       "      <th>504</th>\n",
       "      <td>dos Santos Patrício</td>\n",
       "      <td>Wolves</td>\n",
       "      <td>132</td>\n",
       "      <td>Goalkeeper</td>\n",
       "      <td>26.4</td>\n",
       "    </tr>\n",
       "    <tr>\n",
       "      <th>0</th>\n",
       "      <td>Leno</td>\n",
       "      <td>Arsenal</td>\n",
       "      <td>131</td>\n",
       "      <td>Goalkeeper</td>\n",
       "      <td>26.2</td>\n",
       "    </tr>\n",
       "  </tbody>\n",
       "</table>\n",
       "</div>"
      ],
      "text/plain": [
       "             second_name         team  total_points    position  value\n",
       "32              Martínez  Aston Villa           186  Goalkeeper   33.8\n",
       "296    Santana de Moraes     Man City           160  Goalkeeper   26.7\n",
       "254              Meslier        Leeds           154  Goalkeeper   30.8\n",
       "416               Lloris        Spurs           149  Goalkeeper   27.1\n",
       "127                 Pope      Burnley           144  Goalkeeper   26.2\n",
       "268        Ramses Becker    Liverpool           140  Goalkeeper   23.3\n",
       "160                Mendy      Chelsea           140  Goalkeeper   23.3\n",
       "482            Fabianski     West Ham           133  Goalkeeper   26.6\n",
       "504  dos Santos Patrício       Wolves           132  Goalkeeper   26.4\n",
       "0                   Leno      Arsenal           131  Goalkeeper   26.2"
      ]
     },
     "execution_count": 18,
     "metadata": {},
     "output_type": "execute_result"
    }
   ],
   "source": [
    "# points players\n",
    "fwd_df.sort_values('total_points',ascending=False).head(10)"
   ]
  },
  {
   "cell_type": "code",
   "execution_count": 16,
   "metadata": {
    "scrolled": false
   },
   "outputs": [
    {
     "data": {
      "text/plain": [
       "<AxesSubplot:>"
      ]
     },
     "execution_count": 16,
     "metadata": {},
     "output_type": "execute_result"
    },
    {
     "data": {
      "image/png": "[encoded data removed]",
      "text/plain": [
       "<Figure size 432x288 with 1 Axes>"
      ]
     },
     "metadata": {
      "needs_background": "light"
     },
     "output_type": "display_data"
    }
   ],
   "source": [
    "# Value spread\n",
    "fwd_df.value.hist()"
   ]
  },
  {
   "cell_type": "code",
   "execution_count": 15,
   "metadata": {
    "scrolled": false
   },
   "outputs": [
    {
     "data": {
      "text/plain": [
       "<AxesSubplot:>"
      ]
     },
     "execution_count": 15,
     "metadata": {},
     "output_type": "execute_result"
    },
    {
     "data": {
      "image/png": "[encoded data removed]",
      "text/plain": [
       "<Figure size 432x288 with 1 Axes>"
      ]
     },
     "metadata": {
      "needs_background": "light"
     },
     "output_type": "display_data"
    }
   ],
   "source": [
    "# Total Points Spread\n",
    "fwd_df.total_points.hist()"
   ]
  },
  {
   "cell_type": "markdown",
   "metadata": {},
   "source": [
    "# Futher analysis\n",
    "\n",
    "Prehaps the most interesting stat to come from the value analysis was the correlation between MST calling a player a twat in the 20/21 season and their likelyhood of ending up in the top 10 best value players of their position. A **100%** record.\n",
    "\n",
    "**Good value twats:** Bamford, Soucek, Ward-Prowse, Richarleson"
   ]
  }
 ],
 "metadata": {
  "kernelspec": {
   "display_name": "Python 3",
   "language": "python",
   "name": "python3"
  },
  "language_info": {
   "codemirror_mode": {
    "name": "ipython",
    "version": 3
   },
   "file_extension": ".py",
   "mimetype": "text/x-python",
   "name": "python",
   "nbconvert_exporter": "python",
   "pygments_lexer": "ipython3",
   "version": "3.7.9"
  }
 },
 "nbformat": 4,
 "nbformat_minor": 4
}
